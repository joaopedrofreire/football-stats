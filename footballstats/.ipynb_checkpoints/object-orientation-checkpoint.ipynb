{
 "cells": [
  {
   "cell_type": "code",
   "execution_count": 33,
   "metadata": {},
   "outputs": [],
   "source": [
    "from django.shortcuts import render\n",
    "\n",
    "import http.client\n",
    "import json\n",
    "\n",
    "connection = http.client.HTTPConnection('api.football-data.org')\n",
    "headers = { 'X-Auth-Token': 'f236d854a2394189a0b6adbab1302b70' }\n",
    "\n",
    "def get_league_data(id):\n",
    "    # Get Premier League (2021) data\n",
    "    connection.request('GET', f('/v2/competitions/${id}/matches', id=id), None, headers )\n",
    "    matches = json.loads(connection.getresponse().read().decode())\n",
    "    connection.request('GET', '/v2/competitions/${id}/standings', None, headers )\n",
    "    standings = json.loads(connection.getresponse().read().decode())\n",
    "    return{}"
   ]
  },
  {
   "cell_type": "code",
   "execution_count": null,
   "metadata": {},
   "outputs": [],
   "source": [
    "class League:\n",
    "    def __init__(id):"
   ]
  }
 ],
 "metadata": {
  "kernelspec": {
   "display_name": "Python 3",
   "language": "python",
   "name": "python3"
  },
  "language_info": {
   "codemirror_mode": {
    "name": "ipython",
    "version": 3
   },
   "file_extension": ".py",
   "mimetype": "text/x-python",
   "name": "python",
   "nbconvert_exporter": "python",
   "pygments_lexer": "ipython3",
   "version": "3.8.3"
  }
 },
 "nbformat": 4,
 "nbformat_minor": 4
}
